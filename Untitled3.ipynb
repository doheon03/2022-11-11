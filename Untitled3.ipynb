{
  "nbformat": 4,
  "nbformat_minor": 0,
  "metadata": {
    "colab": {
      "provenance": [],
      "authorship_tag": "ABX9TyP+QNh8dUWxXPbmsvvQ/cAX",
      "include_colab_link": true
    },
    "kernelspec": {
      "name": "python3",
      "display_name": "Python 3"
    },
    "language_info": {
      "name": "python"
    }
  },
  "cells": [
    {
      "cell_type": "markdown",
      "metadata": {
        "id": "view-in-github",
        "colab_type": "text"
      },
      "source": [
        "<a href=\"https://colab.research.google.com/github/doheon03/2022-11-11/blob/main/Untitled3.ipynb\" target=\"_parent\"><img src=\"https://colab.research.google.com/assets/colab-badge.svg\" alt=\"Open In Colab\"/></a>"
      ]
    },
    {
      "cell_type": "markdown",
      "source": [
        "1.다음 프로그램의 출력은 무엇인가?"
      ],
      "metadata": {
        "id": "Zlt9ky9ndbXv"
      }
    },
    {
      "cell_type": "code",
      "source": [
        "age = 20\n",
        "if age < 20:\n",
        " print('20살 미만')\n",
        "else:\n",
        " print('20살 이상')"
      ],
      "metadata": {
        "colab": {
          "base_uri": "https://localhost:8080/"
        },
        "id": "d7VNeJmbdca_",
        "outputId": "7d5a21d0-a529-490f-e9c8-30122ccd2201"
      },
      "execution_count": 2,
      "outputs": [
        {
          "output_type": "stream",
          "name": "stdout",
          "text": [
            "20살 이상\n"
          ]
        }
      ]
    },
    {
      "cell_type": "markdown",
      "source": [
        "2 . 1번 문제에서 age가 30 이상이고 50 이하인것을 체크하려면 어떻게 해야 하는가?"
      ],
      "metadata": {
        "id": "uIwRNtUidgMQ"
      }
    },
    {
      "cell_type": "code",
      "source": [
        "age = 20\n",
        "if age  >= 30 and age <= 50:\n",
        "  print('30살 이상이고 50살 이하')"
      ],
      "metadata": {
        "id": "F_KZ_5gYdov5"
      },
      "execution_count": 4,
      "outputs": []
    },
    {
      "cell_type": "markdown",
      "source": [
        "3.사용자에게 현재 온도를 질문하고 온도가 25도 이상이면 반바지를 추천하고 25도 미만이면 긴바지를 추천하는 프로그램을 작성해보자.\n"
      ],
      "metadata": {
        "id": "RF6XX2vjdpHS"
      }
    },
    {
      "cell_type": "code",
      "source": [
        "temp = int(input(\"현재 온도를 입력하시오: \"))\n",
        "\n",
        "if temp >= 25:\n",
        " print(\"반바지를 입으세요\")\n",
        "else:\n",
        " print(\"긴바지를 입으세요\")\n"
      ],
      "metadata": {
        "colab": {
          "base_uri": "https://localhost:8080/"
        },
        "id": "D0YYYUnWd41h",
        "outputId": "07c47c4f-a764-4682-a888-44bbd209fc72"
      },
      "execution_count": 6,
      "outputs": [
        {
          "output_type": "stream",
          "name": "stdout",
          "text": [
            "현재 온도를 입력하시오: 10\n",
            "긴바지를 입으세요\n"
          ]
        }
      ]
    },
    {
      "cell_type": "markdown",
      "source": [
        "4. 학생의 시험 점수를 물어보고 시혐 점수가 90점 이상이면 A. 80점 이상이면 B,70점\n",
        "이상이면 C, 60점 이상이면 D, 그외의 점수이면 F를 학점으로 주는 프로그램을 작성\n",
        "하라."
      ],
      "metadata": {
        "id": "qHz7Tbq_d8Cz"
      }
    },
    {
      "cell_type": "code",
      "source": [
        "score = int(input(\"성적을 입력하시오: \"))\n",
        "\n",
        "if score >= 90:\n",
        " print(\"A학점입니다.\")\n",
        "elif score >= 80:\n",
        " print(\"B학점입니다.\")\n",
        "elif score >= 70:\n",
        " print(\"C학점입니다.\")\n",
        "elif score >= 60:\n",
        " print(\"D학점입니다.\")\n",
        "else :\n",
        " print(\"F학점입니다.\")\n"
      ],
      "metadata": {
        "colab": {
          "base_uri": "https://localhost:8080/"
        },
        "id": "O09bsSLjenTs",
        "outputId": "4eee2a04-97e1-4cb2-992e-734567699c5b"
      },
      "execution_count": 7,
      "outputs": [
        {
          "output_type": "stream",
          "name": "stdout",
          "text": [
            "성적을 입력하시오: 99\n",
            "A학점입니다.\n"
          ]
        }
      ]
    },
    {
      "cell_type": "markdown",
      "source": [
        "5. 난수를 사용하여 1부터 100까지 숫자를 사용하는 뺄셈 문제를 생성하고 사용자에게 물어본후에 사용자의 답변이 올바른지를 검사하는 프로그램을 작성하라."
      ],
      "metadata": {
        "id": "EwjkA-vdggRl"
      }
    },
    {
      "cell_type": "code",
      "source": [
        "import random\n",
        "x = random.randint(1, 100)\n",
        "y = random.randint(1, 100)\n",
        "\n",
        "ans = int(input(str(x)+\"-\"+str(y)+\"=\"))\n",
        "\n",
        "if ans == x -y :\n",
        " print(\"맞았습니다.\")\n",
        "else :\n",
        " print(\"틀렸습니다.\")\n"
      ],
      "metadata": {
        "colab": {
          "base_uri": "https://localhost:8080/"
        },
        "id": "6LWKlaEoggpk",
        "outputId": "dc56ffb5-2a46-4e4b-b509-cd29574584f6"
      },
      "execution_count": 8,
      "outputs": [
        {
          "output_type": "stream",
          "name": "stdout",
          "text": [
            "45-63=-18\n",
            "맞았습니다.\n"
          ]
        }
      ]
    },
    {
      "cell_type": "markdown",
      "source": [
        "6. 사용자로부터 정수를 받아서 이 정수가 2와 3으로 나누어 떨어질수 있는지를 출력하라."
      ],
      "metadata": {
        "id": "Lew7y5qkent8"
      }
    },
    {
      "cell_type": "code",
      "source": [
        "n = int(input(\"정수를 입력하시오: \"))\n",
        "\n",
        "if n%2==0 and n%3==0:\n",
        " print(\"2와 3으로 나누어 떨어집니다.\")\n",
        "else :\n",
        " print(\"2와 3으로 나누어 떨어지지 않습니다.\")\n"
      ],
      "metadata": {
        "colab": {
          "base_uri": "https://localhost:8080/"
        },
        "id": "mUj8u6clgkd0",
        "outputId": "3360a899-3ba5-404c-a7bf-fac2fe46f364"
      },
      "execution_count": 9,
      "outputs": [
        {
          "output_type": "stream",
          "name": "stdout",
          "text": [
            "정수를 입력하시오: 6\n",
            "2와 3으로 나누어 떨어집니다.\n"
          ]
        }
      ]
    },
    {
      "cell_type": "markdown",
      "source": [
        "7. 2자리 숫자로 이루어진 복권이 있다. 사용자가 가지고 있는 복권 번호가 2자리 모두 일치하면 100만원을 받는다.2자리 중에서 한자리만 일치하면 50만원을 받는다. 하나도 일치하지 않으면 상금은 없다.복권 당첨번호는 난수로 생성하고 사용자의 입력에 따라서 상금이 얼마인지를 출력하는 프로그램을 작성하라."
      ],
      "metadata": {
        "id": "OpANAKilgkwu"
      }
    },
    {
      "cell_type": "code",
      "source": [
        "import random\n",
        "\n",
        "solution = random.randint(0, 99)\n",
        "\n",
        "user = int(input(\"복권번호를 입력하시요(0에서 99사이): \"))\n",
        "\n",
        "digit1 = solution // 10\n",
        "digit2 = solution % 10\n",
        "\n",
        "u_digit1 = user // 10\n",
        "u_digit2 = user % 10\n",
        "\n",
        "print(\"당첨번호는\", solution, \"입니다.\")\n",
        "\n",
        "if (digit1 == u_digit1 and digit2 == u_digit2):\n",
        " print(\"상금은 100만원입니다.\")\n",
        "elif (digit1 == u_digit1\n",
        "or digit1 == u_digit2\n",
        "or digit2 == u_digit1\n",
        "or digit2 == u_digit2):\n",
        " print(\"상금은 50만원입니다.\")\n",
        "else:\n",
        " print(\"상금은 없습니다.\")\n",
        " \n",
        "\n",
        "\n"
      ],
      "metadata": {
        "colab": {
          "base_uri": "https://localhost:8080/"
        },
        "id": "zB19PnAbglKr",
        "outputId": "7da83055-04f7-4d55-bb80-5158a3bb779a"
      },
      "execution_count": 11,
      "outputs": [
        {
          "output_type": "stream",
          "name": "stdout",
          "text": [
            "복권번호를 입력하시요(0에서 99사이): 67\n",
            "당첨번호는 65 입니다.\n",
            "상금은 50만원입니다.\n"
          ]
        }
      ]
    },
    {
      "cell_type": "markdown",
      "source": [
        "8. 사용자로 부터 2개의 원에 대한 정보를 받아서 화면에 원을 그린 후에 조건문을 사용하여 큰안에 작은 원이 포함되는지 판단하는 프로그램을 작성하라."
      ],
      "metadata": {
        "id": "iVCkaVjpglgT"
      }
    },
    {
      "cell_type": "code",
      "source": [
        "import turtle\n",
        "t = turtle.Turtle()\n",
        "t.shape(\"turtle\")\n",
        " \n",
        "\n",
        " \n",
        "x1=int(input(\"큰 원의 중심좌표 x1: \"))\n",
        "y1=int(input(\"큰 원의 중심좌표 y1: \"))\n",
        "r1=int(input(\"큰 원의 반지름: \"))\n",
        "x2=int(input(\"작은 원의 중심좌표 x2: \"))\n",
        "y2=int(input(\"작은 원의 중심좌표 y2: \"))\n",
        "r2=int(input(\"작은 원의 반지름: \"))\n",
        " \n",
        "\n",
        " \n",
        "t.penup()\n",
        "t.goto(x1, y1)\n",
        "t.pendown()\n",
        "\n",
        "t.circle(r1)\n",
        "\n",
        "t.penup()\n",
        "t.goto(x2, y2)\n",
        "t.pendown()\n",
        "t.circle(r2)\n",
        "\n",
        "dist = ((x1 - x2) * (x1 - x2) + (y1 - y2) * (y1 - y2)) ** 0.5\n",
        "if dist <= r1-r2:\n",
        " turtle.write(\"두번째 원이 첫번째 원의 내부에 있습니다.\")\n",
        "elif dist <= r1+r2:\n",
        " turtle.write(\"두번째 원이 첫번째 원과 겹칩니다.\")\n",
        "else:\n",
        " turtle.write(\"두번째 원이 첫번째 원과 겹치지 않습니다.\")\n",
        "t._screen.exitonclick()\t # 화면을 마우스로 클릭해야 종료되게 하는 부분\n",
        "\n",
        "\n"
      ],
      "metadata": {
        "id": "t2G5ymQiglqE"
      },
      "execution_count": null,
      "outputs": []
    }
  ]
}